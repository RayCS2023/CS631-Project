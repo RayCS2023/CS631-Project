{
  "cells": [
    {
      "cell_type": "code",
      "execution_count": 1,
      "metadata": {
        "id": "2p0kXFrs38t4"
      },
      "outputs": [],
      "source": [
        "import re"
      ]
    },
    {
      "cell_type": "code",
      "execution_count": 2,
      "metadata": {
        "id": "T5KMY6t3vjKS"
      },
      "outputs": [],
      "source": [
        "!apt-get update -qq > /dev/null\n",
        "!apt-get install openjdk-8-jdk-headless -qq > /dev/null\n",
        "!wget -q https://dlcdn.apache.org/spark/spark-3.3.3/spark-3.3.3-bin-hadoop3.tgz\n",
        "!tar xzf spark-3.3.3-bin-hadoop3.tgz\n",
        "!pip install -q findspark"
      ]
    },
    {
      "cell_type": "code",
      "execution_count": 3,
      "metadata": {
        "id": "w6UsunHPtYvk"
      },
      "outputs": [],
      "source": [
        "import os\n",
        "os.environ[\"JAVA_HOME\"] = \"/usr/lib/jvm/java-8-openjdk-amd64\"\n",
        "os.environ[\"SPARK_HOME\"] = \"/content/spark-3.3.3-bin-hadoop3\"\n",
        "\n",
        "import findspark\n",
        "findspark.init()\n",
        "\n",
        "from pyspark import SparkContext, SparkConf\n",
        "\n",
        "spark_conf = SparkConf()\\\n",
        "  .setAppName(\"YourTest\")\\\n",
        "  .setMaster(\"local[*]\")\n",
        "\n",
        "sc = SparkContext.getOrCreate(spark_conf)"
      ]
    },
    {
      "cell_type": "code",
      "execution_count": 4,
      "metadata": {
        "colab": {
          "base_uri": "https://localhost:8080/"
        },
        "id": "4rrqkinbtZMq",
        "outputId": "93c53bcc-adb3-410d-a90e-d2536ee06e37"
      },
      "outputs": [
        {
          "output_type": "stream",
          "name": "stdout",
          "text": [
            "Drive already mounted at /content/drive; to attempt to forcibly remount, call drive.mount(\"/content/drive\", force_remount=True).\n"
          ]
        }
      ],
      "source": [
        "from google.colab import drive\n",
        "drive.mount('/content/drive')"
      ]
    },
    {
      "cell_type": "code",
      "execution_count": 5,
      "metadata": {
        "id": "KxnFp_c2lyRD"
      },
      "outputs": [],
      "source": [
        "stop_words = ['i', 'me', 'my', 'myself', 'we', 'our', 'ours', 'ourselves', 'you', \"you're\", \"you've\", \"you'll\", \"you'd\", 'your', 'yours', 'yourself', 'yourselves', 'he', 'him', 'his', 'himself', 'she', \"she's\", 'her', 'hers', 'herself', 'it', \"it's\", 'its', 'itself', 'they', 'them', 'their', 'theirs', 'themselves', 'what', 'which', 'who', 'whom', 'this', 'that', \"that'll\", 'these', 'those', 'am', 'is', 'are', 'was', 'were', 'be', 'been', 'being', 'have', 'has', 'had', 'having', 'do', 'does', 'did', 'doing', 'a', 'an', 'the', 'and', 'but', 'if', 'or', 'because', 'as', 'until', 'while', 'of', 'at', 'by', 'for', 'with', 'about', 'against', 'between', 'into', 'through', 'during', 'before', 'after', 'above', 'below', 'to', 'from', 'up', 'down', 'in', 'out', 'on', 'off', 'over', 'under', 'again', 'further', 'then', 'once', 'here', 'there', 'when', 'where', 'why', 'how', 'all', 'any', 'both', 'each', 'few', 'more', 'most', 'other', 'some', 'such', 'no', 'nor', 'not', 'only', 'own', 'same', 'so', 'than', 'too', 'very', 's', 't', 'can', 'will', 'just', 'don', \"don't\", 'should', \"should've\", 'now', 'd', 'll', 'm', 'o', 're', 've', 'y', 'ain', 'aren', \"aren't\", 'couldn', \"couldn't\", 'didn', \"didn't\", 'doesn', \"doesn't\", 'hadn', \"hadn't\", 'hasn', \"hasn't\", 'haven', \"haven't\", 'isn', \"isn't\", 'ma', 'mightn', \"mightn't\", 'mustn', \"mustn't\", 'needn', \"needn't\", 'shan', \"shan't\", 'shouldn', \"shouldn't\", 'wasn', \"wasn't\", 'weren', \"weren't\", 'won', \"won't\", 'wouldn', \"wouldn't\"]"
      ]
    },
    {
      "cell_type": "code",
      "execution_count": 9,
      "metadata": {
        "colab": {
          "base_uri": "https://localhost:8080/"
        },
        "id": "MfQNyrMMv0W2",
        "outputId": "eca81054-e494-440a-c9bf-4f7b584fe954"
      },
      "outputs": [
        {
          "output_type": "stream",
          "name": "stderr",
          "text": [
            "[nltk_data] Downloading package vader_lexicon to /root/nltk_data...\n",
            "[nltk_data]   Package vader_lexicon is already up-to-date!\n"
          ]
        }
      ],
      "source": [
        "import nltk\n",
        "from textblob import TextBlob\n",
        "from nltk.sentiment.vader import SentimentIntensityAnalyzer\n",
        "nltk.download('vader_lexicon')\n",
        "\n",
        "def get_sentiment(stock):\n",
        "  fitered_news = sc.textFile('/content/drive/MyDrive/trimmed_1_to_4.csv') \\\n",
        "                  .map(lambda x: re.sub(r\"[^a-zA-Z0-9]\\s\", \" \", x).lower()) \\\n",
        "                  .filter(lambda x: stock in x) \\\n",
        "                  .map(lambda x: x.split('|')) \\\n",
        "                  .filter(lambda x: len(x) >= 2) \\\n",
        "                  .map(lambda x: (x[0], ' '.join(x[1:]))) \\\n",
        "                  .map(lambda x: (x[0], x[1].split(' '))) \\\n",
        "                  .map(lambda x: (x[0], [re.sub(r'[^\\w\\s]', '', s).strip() for s in x[1]])) \\\n",
        "                  .map(lambda x: (x[0], [s for s in x[1] if s not in stop_words and s != '']))\n",
        "  print(\"# of news on {}: {}\".format(stock, len(fitered_news.collect())))\n",
        "\n",
        "  def score(x):\n",
        "      analyzer = SentimentIntensityAnalyzer()\n",
        "      words = []\n",
        "      for word in x:\n",
        "          words.append(word)\n",
        "      sentence = \" \".join(words)\n",
        "      # return TextBlob(sentence).sentiment.polarity\n",
        "      return analyzer.polarity_scores(sentence)['compound']\n",
        "\n",
        "  scores = fitered_news.map(lambda x: (x[0], score(x[1]))) \\\n",
        "                      .filter(lambda x: x[1] != 0) \\\n",
        "                      .reduceByKey(lambda x, y: x + y)\n",
        "\n",
        "  return dict(scores.collect())"
      ]
    },
    {
      "cell_type": "code",
      "execution_count": 11,
      "metadata": {
        "colab": {
          "base_uri": "https://localhost:8080/"
        },
        "id": "KWGQGV9S8kUr",
        "outputId": "00bd7e26-0995-49ed-ef22-b56e4a7f79df"
      },
      "outputs": [
        {
          "output_type": "stream",
          "name": "stdout",
          "text": [
            "# of news on facebook: 13428\n",
            "# of news on lyft: 815\n",
            "# of news on netflix: 3538\n"
          ]
        }
      ],
      "source": [
        "import json\n",
        "\n",
        "sentiment = {\n",
        "    'Facebook': get_sentiment('facebook'),\n",
        "    'Lyft': get_sentiment('lyft'),\n",
        "    'Netflix': get_sentiment('netflix'),\n",
        "\n",
        "}\n",
        "\n",
        "with open(\"/content/drive/MyDrive/sentiment.json\", \"w\") as outfile:\n",
        "    json.dump(sentiment, outfile)"
      ]
    }
  ],
  "metadata": {
    "colab": {
      "provenance": []
    },
    "kernelspec": {
      "display_name": "Python 3",
      "name": "python3"
    },
    "language_info": {
      "name": "python"
    }
  },
  "nbformat": 4,
  "nbformat_minor": 0
}