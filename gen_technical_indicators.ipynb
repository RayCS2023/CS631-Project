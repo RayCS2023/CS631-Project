{
  "cells": [
    {
      "cell_type": "code",
      "execution_count": 10,
      "metadata": {
        "colab": {
          "base_uri": "https://localhost:8080/"
        },
        "id": "9uPkn3It5HZC",
        "outputId": "0e0b6a57-820c-4a9d-d454-e4710542cacf"
      },
      "outputs": [
        {
          "name": "stdout",
          "output_type": "stream",
          "text": [
            "Mounted at /content/drive\n"
          ]
        }
      ],
      "source": [
        "# Load the Drive helper and mount\n",
        "from google.colab import drive\n",
        "drive.mount('/content/drive')"
      ]
    },
    {
      "cell_type": "code",
      "execution_count": 8,
      "metadata": {
        "id": "yp8MRM0C3FTt"
      },
      "outputs": [],
      "source": [
        "!apt-get update -qq > /dev/null\n",
        "!apt-get install openjdk-8-jdk-headless -qq > /dev/null\n",
        "!wget -q https://dlcdn.apache.org/spark/spark-3.3.3/spark-3.3.3-bin-hadoop3.tgz\n",
        "!tar xf spark-3.3.3-bin-hadoop3.tgz\n",
        "!pip install -q findspark"
      ]
    },
    {
      "cell_type": "code",
      "execution_count": 93,
      "metadata": {
        "id": "SxnOG0eq3ABS"
      },
      "outputs": [],
      "source": [
        "import os\n",
        "os.environ[\"JAVA_HOME\"] = \"/usr/lib/jvm/java-8-openjdk-amd64\"\n",
        "os.environ[\"SPARK_HOME\"] = \"/content/spark-3.3.3-bin-hadoop3\"\n",
        "\n",
        "import findspark\n",
        "findspark.init()\n",
        "\n",
        "from pyspark.sql import SparkSession\n",
        "import random\n",
        "\n",
        "spark = SparkSession.builder.appName(\"YourTest\").master(\"local[2]\").config('spark.ui.port', random.randrange(4000,5000)).getOrCreate()\n",
        "\n",
        "from pyspark.sql.window import Window\n",
        "from pyspark.sql.functions import lag, when, avg, abs, col, sum\n",
        "from pyspark.sql import functions as F"
      ]
    },
    {
      "cell_type": "code",
      "execution_count": 102,
      "metadata": {
        "colab": {
          "base_uri": "https://localhost:8080/"
        },
        "id": "XVjFxbpr4bLw",
        "outputId": "255e8588-2d69-4ce3-f81a-22136ce4188f"
      },
      "outputs": [
        {
          "name": "stdout",
          "output_type": "stream",
          "text": [
            "+---+-------------------+------------------+------------------+------------------+------------------+------------------+-------+------------------+------------------+--------+\n",
            "|_c0|               Date|              Open|              High|               Low|             Close|         Adj Close| Volume|               RSI|               SMA|     OBV|\n",
            "+---+-------------------+------------------+------------------+------------------+------------------+------------------+-------+------------------+------------------+--------+\n",
            "|  0|2020-01-02 00:00:00|43.220001220703125| 44.06999969482422|43.165000915527344| 43.58000183105469| 43.58000183105469|3912100|              null|              null|    null|\n",
            "|  1|2020-01-03 00:00:00|42.849998474121094| 43.36000061035156|42.233001708984375|43.189998626708984|43.189998626708984|4407200|              null|              null|-4407200|\n",
            "|  2|2020-01-06 00:00:00|42.790000915527344|43.810001373291016|42.380001068115234|43.099998474121094|43.099998474121094|4964600|              null|              null|-9371800|\n",
            "|  3|2020-01-07 00:00:00| 43.18000030517578| 44.70000076293945|43.029998779296875|             44.25|             44.25|4773500|              null|              null|-4598300|\n",
            "|  4|2020-01-08 00:00:00| 44.13999938964844|  45.7400016784668|43.869998931884766| 45.08000183105469| 45.08000183105469|5636300|              null|              null| 1038000|\n",
            "|  5|2020-01-09 00:00:00| 45.15999984741211|45.959999084472656| 44.52000045776367| 45.59000015258789| 45.59000015258789|4640800|              null|              null| 5678800|\n",
            "|  6|2020-01-10 00:00:00| 45.59000015258789|  46.2400016784668| 45.36000061035156|46.060001373291016|46.060001373291016|4512000|              null| 44.40714318411691|10190800|\n",
            "|  7|2020-01-13 00:00:00|46.310001373291016| 46.45000076293945|45.130001068115234|46.349998474121094|46.349998474121094|3796300| 87.13128887561643|44.802856990269255|13987100|\n",
            "|  8|2020-01-14 00:00:00| 46.36000061035156|              48.0|  46.2599983215332| 47.68000030517578| 47.68000030517578|4940500|  98.0728026903815| 45.44428580147879|18927600|\n",
            "|  9|2020-01-15 00:00:00| 47.63999938964844|48.060001373291016| 46.84000015258789| 47.08000183105469| 47.08000183105469|3179900| 88.41701855651274| 46.01285770961216|15747700|\n",
            "| 10|2020-01-16 00:00:00| 47.54999923706055| 47.54999923706055| 46.11000061035156| 46.83000183105469| 46.83000183105469|3354500| 80.14021690303537| 46.38142939976284|12393200|\n",
            "| 11|2020-01-17 00:00:00|              47.0|              47.0| 46.02000045776367| 46.52000045776367| 46.52000045776367|3498700| 69.14892645645917| 46.58714348929269| 8894500|\n",
            "| 12|2020-01-21 00:00:00|              46.5| 48.77000045776367| 46.36000061035156| 47.97999954223633| 47.97999954223633|6253100| 75.37154834623527| 46.92857197352818|15147600|\n",
            "| 13|2020-01-22 00:00:00|48.189998626708984| 48.95000076293945| 47.31999969482422|47.470001220703125|47.470001220703125|4134700| 64.84211557658594| 47.13000052315848|11012900|\n",
            "| 14|2020-01-23 00:00:00| 47.47999954223633| 48.91999816894531|47.099998474121094| 48.47999954223633| 48.47999954223633|4143100| 69.46985446260514|47.434286390032085|15156000|\n",
            "| 15|2020-01-24 00:00:00| 48.66999816894531|49.540000915527344|47.619998931884766| 48.43000030517578| 48.43000030517578|5475100|58.949891749864804|47.541429247174946| 9680900|\n",
            "| 16|2020-01-27 00:00:00| 46.83000183105469|47.650001525878906|46.130001068115234| 47.36000061035156| 47.36000061035156|3803000| 53.00428130551166| 47.58142907278879| 5877900|\n",
            "| 17|2020-01-28 00:00:00| 47.77000045776367|48.349998474121094|47.459999084472656|48.209999084472656|48.209999084472656|2876600| 63.11785831358295|47.778571537562776| 8754500|\n",
            "| 18|2020-01-29 00:00:00|47.970001220703125| 48.63999938964844| 46.36000061035156| 46.84000015258789| 46.84000015258789|7489400| 52.53164633366089| 47.82428577968052| 1265100|\n",
            "| 19|2020-01-30 00:00:00|46.650001525878906| 47.88999938964844|              46.5|47.790000915527344|47.790000915527344|3100600|48.364898181615246|  47.7971431187221| 4365700|\n",
            "+---+-------------------+------------------+------------------+------------------+------------------+------------------+-------+------------------+------------------+--------+\n",
            "only showing top 20 rows\n",
            "\n"
          ]
        }
      ],
      "source": [
        "## change file to read based on stock\n",
        "df = spark.read.csv(\"/content/drive/MyDrive/LYFT.csv\", sep=',',inferSchema=True, header=True)\n",
        "\n",
        "# RSI\n",
        "diff = df['Close'] - lag(df[\"Close\"], 1).over(Window().orderBy(\"Date\"))\n",
        "gain = when(diff > 0, diff).otherwise(0)\n",
        "loss = when(diff < 0, diff).otherwise(0)\n",
        "avg_gain = avg(gain).over(Window.orderBy(\"Date\").rowsBetween(-7, -1))\n",
        "avg_loss = avg(abs(loss)).over(Window.orderBy(\"Date\").rowsBetween(-7, -1))\n",
        "RSI = 100 - (100/(1+(avg_gain/avg_loss)))\n",
        "RSI = lag(RSI, -1).over(Window().orderBy(\"Date\"))\n",
        "df = df.withColumn(\"RSI\", when(col(\"_c0\") < '7', None).otherwise(RSI))\n",
        "\n",
        "# SMA\n",
        "SMA = avg(df[\"Close\"]).over(Window().rowsBetween(-7,-1))\n",
        "SMA = lag(SMA, -1).over(Window().orderBy(\"Date\"))\n",
        "df = df.withColumn(\"SMA\", when(col(\"_c0\") < '6', None).otherwise(SMA))\n",
        "\n",
        "# OBV\n",
        "diff = df['Close'] - lag(df[\"Close\"], 1).over(Window().orderBy(\"Date\"))\n",
        "gain = when(diff > 0, df['Volume']).otherwise(0)\n",
        "loss = when(diff < 0, -1 * df['Volume']).otherwise(0)\n",
        "s = gain + loss\n",
        "cummalative_sum = F.sum(s).over(Window().orderBy(\"Date\"))\n",
        "df = df.withColumn(\"OBV\", when(col(\"_c0\") < '1', None).otherwise(cummalative_sum))\n",
        "df.show()\n",
        "df.write.options(header='True', delimiter=',').csv(\"/content/drive/MyDrive/LYFT_processed.csv\")\n"
      ]
    }
  ],
  "metadata": {
    "colab": {
      "provenance": []
    },
    "kernelspec": {
      "display_name": "Python 3",
      "name": "python3"
    },
    "language_info": {
      "name": "python"
    }
  },
  "nbformat": 4,
  "nbformat_minor": 0
}
